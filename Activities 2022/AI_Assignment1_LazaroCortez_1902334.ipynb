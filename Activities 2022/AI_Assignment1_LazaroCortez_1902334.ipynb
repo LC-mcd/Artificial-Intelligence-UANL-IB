{
  "nbformat": 4,
  "nbformat_minor": 0,
  "metadata": {
    "colab": {
      "provenance": [],
      "collapsed_sections": []
    },
    "kernelspec": {
      "name": "python3",
      "display_name": "Python 3"
    },
    "language_info": {
      "name": "python"
    }
  },
  "cells": [
    {
      "cell_type": "markdown",
      "source": [
        "# Python Exercises\n",
        "Lazaro Gael Cortez Moncada 1902334 Tuesdays N4"
      ],
      "metadata": {
        "id": "xVrpkM-xjMJd"
      }
    },
    {
      "cell_type": "code",
      "execution_count": 37,
      "metadata": {
        "colab": {
          "base_uri": "https://localhost:8080/"
        },
        "id": "-s7AWwAGjKe0",
        "outputId": "6f3df7b3-4a06-49e2-e542-42af83d37ef6"
      },
      "outputs": [
        {
          "output_type": "stream",
          "name": "stdout",
          "text": [
            "Give me your first name Lazaro\n",
            "welcome Lazaro :)\n"
          ]
        }
      ],
      "source": [
        "name = input(\"Give me your first name \")\n",
        "\n",
        "if name == \"Ana\" :\n",
        "    print (\"That is not a name >:(\")\n",
        "\n",
        "elif name == \"John\" :\n",
        "    print (\"That is not a name >:(\")\n",
        "\n",
        "elif name == \"Peter\" :\n",
        "    print (\"That is not a name >:(\")\n",
        "\n",
        "else:\n",
        "  print (\"welcome \" + name + \" :)\")\n"
      ]
    },
    {
      "cell_type": "code",
      "source": [
        "Market = (\"apple\", \"banana\", \"pear\", \"orange\", \"lime\")\n",
        "idx = len(Market) - 1\n",
        "newMarket = []\n",
        "\n",
        "print(Market[-1])\n",
        "\n",
        "while (idx >= 0):\n",
        "  newMarket.append(Market[idx])\n",
        "  idx = idx - 1\n",
        "\n",
        "print(newMarket)\n"
      ],
      "metadata": {
        "colab": {
          "base_uri": "https://localhost:8080/"
        },
        "id": "E-sWw_thzh2o",
        "outputId": "fb71be26-dbe7-4002-af6d-f3c669357d38"
      },
      "execution_count": 38,
      "outputs": [
        {
          "output_type": "stream",
          "name": "stdout",
          "text": [
            "lime\n",
            "['lime', 'orange', 'pear', 'banana', 'apple']\n"
          ]
        }
      ]
    },
    {
      "cell_type": "code",
      "source": [
        "def framed(*words):\n",
        "  size = max(len(word) for word in words)\n",
        "  print('*' * (size +4))\n",
        "  for word in words:\n",
        "    print ('* {:<{}} *' .format(word, size))\n",
        "  print('*' * (size + 4))\n",
        "\n",
        "framed(\"Hi\", \"My\", \"Name\", \"Is\", \"Gael\")"
      ],
      "metadata": {
        "colab": {
          "base_uri": "https://localhost:8080/"
        },
        "id": "FRfkZo4H1xf5",
        "outputId": "0c87b504-3b83-4145-82dd-21dc837a5b1b"
      },
      "execution_count": 39,
      "outputs": [
        {
          "output_type": "stream",
          "name": "stdout",
          "text": [
            "********\n",
            "* Hi   *\n",
            "* My   *\n",
            "* Name *\n",
            "* Is   *\n",
            "* Gael *\n",
            "********\n"
          ]
        }
      ]
    }
  ]
}